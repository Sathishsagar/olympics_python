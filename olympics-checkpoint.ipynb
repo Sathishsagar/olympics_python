{
 "cells": [
  {
   "cell_type": "code",
   "execution_count": null,
   "id": "8c21a434",
   "metadata": {},
   "outputs": [],
   "source": [
    "import pandas as pd\n",
    "import numpy as np\n",
    "import seaborn as sns\n",
    "import matplotlib.pyplot as plt\n",
    "%matplotlib inline\n",
    "from sklearn.linear_model import LinearRegression"
   ]
  },
  {
   "cell_type": "code",
   "execution_count": null,
   "id": "6bce71d0",
   "metadata": {},
   "outputs": [],
   "source": [
    "df = pd.read_csv('Summer-Olympic-medals-1976-to-2008.csv', encoding= 'unicode_escape')"
   ]
  },
  {
   "cell_type": "code",
   "execution_count": null,
   "id": "5edc3da4",
   "metadata": {},
   "outputs": [],
   "source": [
    "df.head()"
   ]
  },
  {
   "cell_type": "code",
   "execution_count": null,
   "id": "450da9d2",
   "metadata": {},
   "outputs": [],
   "source": [
    "df.info()"
   ]
  },
  {
   "cell_type": "code",
   "execution_count": null,
   "id": "66824278",
   "metadata": {},
   "outputs": [],
   "source": [
    "pd.isnull(df).sum()"
   ]
  },
  {
   "cell_type": "code",
   "execution_count": null,
   "id": "75b851aa",
   "metadata": {},
   "outputs": [],
   "source": [
    "df.dropna(inplace = True)"
   ]
  },
  {
   "cell_type": "code",
   "execution_count": null,
   "id": "da1ba935",
   "metadata": {},
   "outputs": [],
   "source": [
    "df['Year'] = df['Year'].astype(int)"
   ]
  },
  {
   "cell_type": "code",
   "execution_count": null,
   "id": "e8815c4d",
   "metadata": {},
   "outputs": [],
   "source": [
    "df.describe()"
   ]
  },
  {
   "cell_type": "markdown",
   "id": "a3ddf925",
   "metadata": {},
   "source": [
    "# EXPLOTARY DATA ANALYSYS"
   ]
  },
  {
   "cell_type": "code",
   "execution_count": null,
   "id": "7797d0ac",
   "metadata": {},
   "outputs": [],
   "source": [
    "ax = sns.countplot(x='Medal' , data = df)\n",
    "for i in ax.containers:\n",
    "    ax.bar_label(i)"
   ]
  },
  {
   "cell_type": "code",
   "execution_count": null,
   "id": "874cf742",
   "metadata": {},
   "outputs": [],
   "source": [
    "ax=sns.countplot(data=df,x='Gender',hue = 'Medal')\n",
    "for i in ax.containers:\n",
    "    ax.bar_label(i)"
   ]
  },
  {
   "cell_type": "markdown",
   "id": "321980b5",
   "metadata": {},
   "source": [
    "# Medals across years:"
   ]
  },
  {
   "cell_type": "code",
   "execution_count": null,
   "id": "35b9403d",
   "metadata": {},
   "outputs": [],
   "source": [
    "ax = sns.countplot(data =df , x= 'Year' , hue = 'Medal')\n",
    "for i in ax.containers:\n",
    "    ax.bar_label(i)"
   ]
  },
  {
   "cell_type": "markdown",
   "id": "9cf384ac",
   "metadata": {},
   "source": [
    "# Top  Countries &atheltes  :"
   ]
  },
  {
   "cell_type": "code",
   "execution_count": null,
   "id": "cdad366e",
   "metadata": {},
   "outputs": [],
   "source": [
    "med_count = df.groupby(['Country'],as_index = False)['Medal'].count().sort_values(by = 'Medal',ascending = False).head(10)\n",
    "ax = sns.barplot(data = med_count,x='Country', y = 'Medal')\n",
    "sns.set(rc={'figure.figsize':(20,10)})\n",
    "for i in ax.containers:\n",
    "    ax.bar_label(i)\n",
    "\n",
    "\n",
    "plt.xlabel(\"Country\", fontsize=20)\n",
    "plt.ylabel(\"Medals Count\", fontsize=20)\n",
    "plt.title(\"Top 10 Countries by Medal Count\", fontsize=20)\n",
    "\n",
    "plt.xticks(fontsize=16, rotation=45)  # Rotate if names are long\n",
    "plt.yticks(fontsize=16)\n",
    "\n",
    "plt.show()"
   ]
  },
  {
   "cell_type": "code",
   "execution_count": null,
   "id": "71cd4e8a",
   "metadata": {},
   "outputs": [],
   "source": [
    "ax = df.groupby(['Athlete'],as_index = False)['Medal'].count().sort_values(by = 'Medal',ascending = False).head(10)\n",
    "bx = sns.barplot(data = ax, x = 'Athlete' , y = 'Medal')\n",
    "for i in bx.containers:\n",
    "    bx.bar_label(i)\n",
    "\n",
    "sns.set(rc = {'figure.figsize':(24,12)})\n",
    "\n",
    "plt.xlabel('Athlete',fontsize =20)\n",
    "plt.ylabel('Medal',fontsize = 20)\n",
    "plt.title(\"Top 10 athletes by medals\",fontsize = 20)\n",
    "\n",
    "plt.xticks(fontsize = 14)\n",
    "plt.yticks(fontsize = 14)\n",
    "plt.show()"
   ]
  },
  {
   "cell_type": "markdown",
   "id": "f33e9bb4",
   "metadata": {},
   "source": [
    "# most medals by sports"
   ]
  },
  {
   "cell_type": "code",
   "execution_count": null,
   "id": "c12e80c7",
   "metadata": {},
   "outputs": [],
   "source": [
    "med_spo = df.groupby(['Sport'],as_index = False)['Medal'].count().sort_values(by = 'Medal',ascending = False).head(15)\n",
    "ax = sns.pointplot(data = med_spo,x='Sport',y = 'Medal')\n",
    "\n",
    "plt.xlabel(\"Sport\",fontsize=25)\n",
    "plt.ylabel(\"Medals\",fontsize = 25)\n",
    "plt.title(\"Medals won by sports\",fontsize = 25)\n",
    "\n",
    "plt.xticks(fontsize = 17)\n",
    "plt.yticks(fontsize = 17)\n",
    "plt.show()"
   ]
  },
  {
   "cell_type": "code",
   "execution_count": null,
   "id": "bae17610",
   "metadata": {},
   "outputs": [],
   "source": [
    "gen_s = df.pivot_table(index='Gender', columns='Sport', aggfunc='size', fill_value=0)\n",
    "sns.heatmap(gen_s, annot=True, cmap='coolwarm', fmt='d')\n",
    "\n",
    "plt.title(\"Heatmap of Sport and Gender\", fontsize=20)\n",
    "plt.xlabel(\"Sport\", fontsize=20)\n",
    "plt.ylabel(\"Gender\", fontsize=20)\n",
    "plt.xticks(fontsize = 20)\n",
    "plt.yticks(fontsize = 20)\n",
    "plt.show()"
   ]
  },
  {
   "cell_type": "code",
   "execution_count": null,
   "id": "996c9ad2",
   "metadata": {},
   "outputs": [],
   "source": [
    "df.columns"
   ]
  },
  {
   "cell_type": "code",
   "execution_count": null,
   "id": "d8d9245b",
   "metadata": {},
   "outputs": [],
   "source": [
    "X = df.drop(['Medal'], axis = 1)\n",
    "X.shape"
   ]
  },
  {
   "cell_type": "code",
   "execution_count": null,
   "id": "f27cab18",
   "metadata": {},
   "outputs": [],
   "source": [
    "Y =df['Medal']\n",
    "Y.shape"
   ]
  },
  {
   "cell_type": "code",
   "execution_count": null,
   "id": "e1915f0d",
   "metadata": {},
   "outputs": [],
   "source": [
    "from sklearn.model_selection import train_test_split\n",
    "X_train, X_test, Y_train, Y_test = train_test_split(X,Y,test_size = 0.2,random_state = 0)"
   ]
  },
  {
   "cell_type": "code",
   "execution_count": null,
   "id": "a8ece167",
   "metadata": {},
   "outputs": [],
   "source": [
    "print(X.shape,X_train.shape,X_test.shape)"
   ]
  },
  {
   "cell_type": "code",
   "execution_count": null,
   "id": "35ff1882",
   "metadata": {},
   "outputs": [],
   "source": [
    "print(Y.shape,Y_train.shape,Y_test.shape)"
   ]
  },
  {
   "cell_type": "code",
   "execution_count": null,
   "id": "9c43f033",
   "metadata": {},
   "outputs": [],
   "source": [
    "model = LinearRegression()"
   ]
  },
  {
   "cell_type": "code",
   "execution_count": null,
   "id": "1162df00",
   "metadata": {},
   "outputs": [],
   "source": [
    "from sklearn.preprocessing import LabelEncoder\n",
    "\n",
    "# Encode all object-type columns\n",
    "le = LabelEncoder()\n",
    "for col in X_train.select_dtypes(include=['object']).columns:\n",
    "    X_train[col] = le.fit_transform(X_train[col])\n",
    "\n",
    "# Check transformed data\n",
    "print(X_train.head())"
   ]
  },
  {
   "cell_type": "code",
   "execution_count": null,
   "id": "df03e097",
   "metadata": {},
   "outputs": [],
   "source": [
    "print(Y_train.unique())\n",
    "from sklearn.preprocessing import LabelEncoder\n",
    "\n",
    "le = LabelEncoder()\n",
    "Y_train = le.fit_transform(Y_train)\n",
    "\n",
    "print(le.classes_)  # Check the mapping of categories to numbers\n"
   ]
  },
  {
   "cell_type": "code",
   "execution_count": null,
   "id": "86b17dc6",
   "metadata": {},
   "outputs": [],
   "source": [
    "model.fit(X_train,Y_train)"
   ]
  },
  {
   "cell_type": "code",
   "execution_count": null,
   "id": "cc9a5de3",
   "metadata": {},
   "outputs": [],
   "source": [
    "training_data_prediction = model.predict(X_train)"
   ]
  },
  {
   "cell_type": "code",
   "execution_count": null,
   "id": "127e0b4d",
   "metadata": {},
   "outputs": [],
   "source": []
  },
  {
   "cell_type": "code",
   "execution_count": null,
   "id": "3d7aa093",
   "metadata": {},
   "outputs": [],
   "source": [
    "df.head()"
   ]
  },
  {
   "cell_type": "code",
   "execution_count": null,
   "id": "0f69e3ea",
   "metadata": {},
   "outputs": [],
   "source": []
  }
 ],
 "metadata": {
  "kernelspec": {
   "display_name": "Python 3 (ipykernel)",
   "language": "python",
   "name": "python3"
  },
  "language_info": {
   "codemirror_mode": {
    "name": "ipython",
    "version": 3
   },
   "file_extension": ".py",
   "mimetype": "text/x-python",
   "name": "python",
   "nbconvert_exporter": "python",
   "pygments_lexer": "ipython3",
   "version": "3.10.9"
  }
 },
 "nbformat": 4,
 "nbformat_minor": 5
}
